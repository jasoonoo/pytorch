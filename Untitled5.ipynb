{
  "nbformat": 4,
  "nbformat_minor": 0,
  "metadata": {
    "colab": {
      "provenance": [],
      "gpuType": "T4",
      "authorship_tag": "ABX9TyMxPft0fOoQ9Xw1eBUkm1g5",
      "include_colab_link": true
    },
    "kernelspec": {
      "name": "python3",
      "display_name": "Python 3"
    },
    "language_info": {
      "name": "python"
    },
    "accelerator": "GPU"
  },
  "cells": [
    {
      "cell_type": "markdown",
      "metadata": {
        "id": "view-in-github",
        "colab_type": "text"
      },
      "source": [
        "<a href=\"https://colab.research.google.com/github/jasoonoo/pytorch/blob/main/Untitled5.ipynb\" target=\"_parent\"><img src=\"https://colab.research.google.com/assets/colab-badge.svg\" alt=\"Open In Colab\"/></a>"
      ]
    },
    {
      "cell_type": "markdown",
      "source": [
        "### 1. 텐서 생성"
      ],
      "metadata": {
        "id": "RHDz8v0-r07Y"
      }
    },
    {
      "cell_type": "code",
      "source": [
        "import torch\n",
        "import numpy as np"
      ],
      "metadata": {
        "id": "Rll3Zqc4sLO7"
      },
      "execution_count": 1,
      "outputs": []
    },
    {
      "cell_type": "code",
      "execution_count": 7,
      "metadata": {
        "colab": {
          "base_uri": "https://localhost:8080/"
        },
        "id": "MTP0x8cnrxlK",
        "outputId": "2789d707-3db4-4500-b1e3-1c42ea86ed0e"
      },
      "outputs": [
        {
          "output_type": "stream",
          "name": "stdout",
          "text": [
            "tensor([[1, 2],\n",
            "        [3, 4]])\n",
            "torch.LongTensor\n",
            "torch.Size([2, 2])\n",
            "tensor([[1, 2],\n",
            "        [3, 4]])\n",
            "Ones Tensor: \n",
            " tensor([[1, 1],\n",
            "        [1, 1]]) \n",
            "\n",
            "torch.LongTensor\n",
            "torch.Size([2, 2])\n",
            "Random Tensor: \n",
            " tensor([[0.4633, 0.8597],\n",
            "        [0.5819, 0.6893]])\n",
            "torch.FloatTensor\n",
            "torch.Size([2, 2])\n"
          ]
        }
      ],
      "source": [
        "# 데이터로부터 직접 생성\n",
        "data = [[1,2], [3,4]]\n",
        "x_data = torch.tensor(data)\n",
        "print(x_data)\n",
        "print(x_data.type())\n",
        "print(x_data.shape)\n",
        "\n",
        "# Numpy 배열로부터 생성\n",
        "np_array = np.array(data)\n",
        "x_np = torch.from_numpy(np_array)\n",
        "print(x_np)\n",
        "\n",
        "# 다른 텐서로부터 생성\n",
        "x_ones = torch.ones_like(x_data)\n",
        "print(f\"Ones Tensor: \\n {x_ones} \\n\")\n",
        "print(x_ones.type())\n",
        "print(x_ones.shape)\n",
        "\n",
        "x_rand = torch.rand_like(x_data, dtype=torch.float)\n",
        "print(f\"Random Tensor: \\n {x_rand}\")\n",
        "print(x_rand.type())\n",
        "print(x_rand.shape)"
      ]
    },
    {
      "cell_type": "code",
      "source": [
        "# 랜덤하게 생성\n",
        "shape= (2,3,)\n",
        "rand_tensor = torch.rand(shape)\n",
        "ones_tensor = torch.ones(shape)\n",
        "zeros_tensor = torch.zeros(shape)\n",
        "\n",
        "print(rand_tensor)\n",
        "print(ones_tensor)\n",
        "print(ones_tensor.type())\n",
        "print(zeros_tensor)\n"
      ],
      "metadata": {
        "colab": {
          "base_uri": "https://localhost:8080/"
        },
        "id": "_j21Crq_sG4J",
        "outputId": "d756e033-aa0a-464e-b90f-1138da7ccda9"
      },
      "execution_count": 8,
      "outputs": [
        {
          "output_type": "stream",
          "name": "stdout",
          "text": [
            "tensor([[0.9519, 0.0490, 0.7013],\n",
            "        [0.5238, 0.9098, 0.9608]])\n",
            "tensor([[1., 1., 1.],\n",
            "        [1., 1., 1.]])\n",
            "torch.FloatTensor\n",
            "tensor([[0., 0., 0.],\n",
            "        [0., 0., 0.]])\n"
          ]
        }
      ]
    },
    {
      "cell_type": "markdown",
      "source": [
        "### 2.  텐서의 속성"
      ],
      "metadata": {
        "id": "dnfnf4chtUJG"
      }
    },
    {
      "cell_type": "code",
      "source": [
        "tensor = torch.rand(3,4)\n",
        "print(tensor.shape)\n",
        "print(tensor.size())\n",
        "print(tensor.type())\n",
        "print(tensor.dtype)\n",
        "print(tensor.device)\n",
        "\n",
        "tensor = tensor.to(\"cuda\")\n",
        "print(tensor.device)"
      ],
      "metadata": {
        "colab": {
          "base_uri": "https://localhost:8080/"
        },
        "id": "l0iQeecVtQbX",
        "outputId": "efbb38fe-6d40-4696-dee3-188b136f62d9"
      },
      "execution_count": 3,
      "outputs": [
        {
          "output_type": "stream",
          "name": "stdout",
          "text": [
            "torch.Size([3, 4])\n",
            "torch.Size([3, 4])\n",
            "torch.FloatTensor\n",
            "torch.float32\n",
            "cpu\n",
            "cuda:0\n"
          ]
        }
      ]
    },
    {
      "cell_type": "code",
      "source": [
        "# 같은 디바이스 내에 있는 텐서기리만 연산 가능!!\n",
        "\n",
        "cpu_tensor = torch.ones(3)\n",
        "gpu_tensor = torch.ones(3).to(\"cuda\")\n",
        "\n",
        "tensor_sum1 = cpu_tensor + cpu_tensor\n",
        "print(f\"Tensor sum: {tensor_sum1}\")\n",
        "\n",
        "tensor_sum2 = gpu_tensor + gpu_tensor\n",
        "print(f\"Tensor sum: {tensor_sum2}\")\n",
        "\n",
        "# tensor_sum = cpu_tensor + gpu_tensor"
      ],
      "metadata": {
        "colab": {
          "base_uri": "https://localhost:8080/"
        },
        "id": "t2L7gtJ9toFo",
        "outputId": "0457eb42-c4fe-4370-9ceb-7fa58c302907"
      },
      "execution_count": 6,
      "outputs": [
        {
          "output_type": "stream",
          "name": "stdout",
          "text": [
            "Tensor sum: tensor([2., 2., 2.])\n",
            "Tensor sum: tensor([2., 2., 2.], device='cuda:0')\n"
          ]
        }
      ]
    },
    {
      "cell_type": "markdown",
      "source": [
        "### 3. 텐서의 연산"
      ],
      "metadata": {
        "id": "d4PhkCQLuUbB"
      }
    },
    {
      "cell_type": "code",
      "source": [
        "# Single-element tensors\n",
        "tensor = torch.ones(3, 3)\n",
        "print(tensor)\n",
        "agg = tensor.sum()\n",
        "print(agg)\n",
        "\n",
        "print(agg.item())\n",
        "print(type(agg.item()))"
      ],
      "metadata": {
        "colab": {
          "base_uri": "https://localhost:8080/"
        },
        "id": "Vms97Ow4uLLr",
        "outputId": "6d926166-2778-4c01-9c64-d24b2e6170bf"
      },
      "execution_count": 9,
      "outputs": [
        {
          "output_type": "stream",
          "name": "stdout",
          "text": [
            "tensor([[1., 1., 1.],\n",
            "        [1., 1., 1.],\n",
            "        [1., 1., 1.]])\n",
            "tensor(9.)\n",
            "9.0\n",
            "<class 'float'>\n"
          ]
        }
      ]
    },
    {
      "cell_type": "code",
      "source": [
        "print(tensor)"
      ],
      "metadata": {
        "colab": {
          "base_uri": "https://localhost:8080/"
        },
        "id": "Oirug1L0uf3n",
        "outputId": "ba1d9a9c-0d77-4fae-9016-2209079f3fd4"
      },
      "execution_count": 10,
      "outputs": [
        {
          "output_type": "stream",
          "name": "stdout",
          "text": [
            "tensor([[1., 1., 1.],\n",
            "        [1., 1., 1.],\n",
            "        [1., 1., 1.]])\n"
          ]
        }
      ]
    },
    {
      "cell_type": "code",
      "source": [
        "# Normal operation\n",
        "tensor.add(5)\n",
        "print(tensor)\n",
        "\n",
        "# In-plac eperation\n",
        "tensor.add_(5)\n",
        "print(tensor)"
      ],
      "metadata": {
        "colab": {
          "base_uri": "https://localhost:8080/"
        },
        "id": "7FU5ffZhu1D-",
        "outputId": "ed69e57e-f160-4d74-aa9e-ebbabfd0e8d0"
      },
      "execution_count": 13,
      "outputs": [
        {
          "output_type": "stream",
          "name": "stdout",
          "text": [
            "tensor([[1., 1., 1.],\n",
            "        [1., 1., 1.],\n",
            "        [1., 1., 1.]])\n",
            "tensor([[6., 6., 6.],\n",
            "        [6., 6., 6.],\n",
            "        [6., 6., 6.]])\n"
          ]
        }
      ]
    },
    {
      "cell_type": "markdown",
      "source": [
        "### 4. Bridge with Numpy"
      ],
      "metadata": {
        "id": "pz37D_lmvO3i"
      }
    },
    {
      "cell_type": "code",
      "source": [
        "# Tensor to Numpy\n",
        "t = torch.ones(5)\n",
        "n = t.numpy()\n",
        "\n",
        "print(t)\n",
        "print(n)"
      ],
      "metadata": {
        "colab": {
          "base_uri": "https://localhost:8080/"
        },
        "id": "0CEnxewpu3eW",
        "outputId": "937d71c9-8c5b-42da-efb6-2e78e818b9f4"
      },
      "execution_count": 14,
      "outputs": [
        {
          "output_type": "stream",
          "name": "stdout",
          "text": [
            "tensor([1., 1., 1., 1., 1.])\n",
            "[1. 1. 1. 1. 1.]\n"
          ]
        }
      ]
    },
    {
      "cell_type": "code",
      "source": [
        "t.add_(1)\n",
        "print(t)\n",
        "print(n)"
      ],
      "metadata": {
        "colab": {
          "base_uri": "https://localhost:8080/"
        },
        "id": "ZoGARH7dvaKh",
        "outputId": "ba7986bc-2473-4ab8-b935-2ae03f6d75ab"
      },
      "execution_count": 15,
      "outputs": [
        {
          "output_type": "stream",
          "name": "stdout",
          "text": [
            "tensor([2., 2., 2., 2., 2.])\n",
            "[2. 2. 2. 2. 2.]\n"
          ]
        }
      ]
    },
    {
      "cell_type": "code",
      "source": [
        "n = np.ones(5)\n",
        "t = torch.from_numpy(n)\n",
        "print(n)\n",
        "print(t)"
      ],
      "metadata": {
        "colab": {
          "base_uri": "https://localhost:8080/"
        },
        "id": "eP3-umdXvi4G",
        "outputId": "ac6de889-50a0-4c48-f773-746fbf5e6fa0"
      },
      "execution_count": 16,
      "outputs": [
        {
          "output_type": "stream",
          "name": "stdout",
          "text": [
            "[1. 1. 1. 1. 1.]\n",
            "tensor([1., 1., 1., 1., 1.], dtype=torch.float64)\n"
          ]
        }
      ]
    },
    {
      "cell_type": "code",
      "source": [
        "np.add(n, 1, out=n)\n",
        "print(n)\n",
        "print(t)"
      ],
      "metadata": {
        "colab": {
          "base_uri": "https://localhost:8080/"
        },
        "id": "MwFvRX9NvoSN",
        "outputId": "5b4cad50-d7fb-4526-e78b-dc139ef5a757"
      },
      "execution_count": 17,
      "outputs": [
        {
          "output_type": "stream",
          "name": "stdout",
          "text": [
            "[2. 2. 2. 2. 2.]\n",
            "tensor([2., 2., 2., 2., 2.], dtype=torch.float64)\n"
          ]
        }
      ]
    },
    {
      "cell_type": "markdown",
      "source": [
        "### 2. Operation"
      ],
      "metadata": {
        "id": "rNjf342xvxT-"
      }
    },
    {
      "cell_type": "markdown",
      "source": [
        "#### 1. Tensor 연산"
      ],
      "metadata": {
        "id": "zwhGdo_GvzT_"
      }
    },
    {
      "cell_type": "code",
      "source": [
        "# 텐서여부 확인\n",
        "x = torch.tensor([1,2,3])\n",
        "torch.is_tensor(x)"
      ],
      "metadata": {
        "colab": {
          "base_uri": "https://localhost:8080/"
        },
        "id": "ahfhYu1dvwYA",
        "outputId": "466afc24-2307-4138-cd61-399d4eff32d9"
      },
      "execution_count": 18,
      "outputs": [
        {
          "output_type": "execute_result",
          "data": {
            "text/plain": [
              "True"
            ]
          },
          "metadata": {},
          "execution_count": 18
        }
      ]
    },
    {
      "cell_type": "code",
      "source": [
        "# Tensor 가 zero인지 확인\n",
        "# Zero 가 아닌 경우 True 반환\n",
        "# Boolean 에 대해서는 Boolean 값을 그대로 반환\n",
        "print(torch.is_nonzero(torch.tensor([0.])))\n",
        "print(torch.is_nonzero(torch.tensor([1.5])))\n",
        "print(torch.is_nonzero(torch.tensor([False])))\n",
        "print(torch.is_nonzero(torch.tensor([True])))\n",
        "print(torch.is_nonzero(torch.tensor([3])))\n",
        "\n",
        "# is_tensor()는 단일 텐서에 대해서만 사용 가능하다\n",
        "# print(torch.is_nonzero(torch.tensor([3,1])))"
      ],
      "metadata": {
        "colab": {
          "base_uri": "https://localhost:8080/"
        },
        "id": "Tl7SzmeBvtkF",
        "outputId": "99ab63be-4cd9-44a8-ead2-49293fb76d21"
      },
      "execution_count": 24,
      "outputs": [
        {
          "output_type": "stream",
          "name": "stdout",
          "text": [
            "False\n",
            "True\n",
            "False\n",
            "True\n",
            "True\n"
          ]
        }
      ]
    },
    {
      "cell_type": "markdown",
      "source": [
        "#### 2. Indexing"
      ],
      "metadata": {
        "id": "wsW_LFp2w0oJ"
      }
    },
    {
      "cell_type": "code",
      "source": [
        "x = torch.rand(3, 4)\n",
        "x"
      ],
      "metadata": {
        "colab": {
          "base_uri": "https://localhost:8080/"
        },
        "id": "Yh5puH8TwXsG",
        "outputId": "23927a84-92c5-47d6-8067-cce8235aaed9"
      },
      "execution_count": 27,
      "outputs": [
        {
          "output_type": "execute_result",
          "data": {
            "text/plain": [
              "tensor([[0.5410, 0.8104, 0.7855, 0.3805],\n",
              "        [0.7033, 0.6390, 0.7901, 0.1896],\n",
              "        [0.6944, 0.6873, 0.2166, 0.1789]])"
            ]
          },
          "metadata": {},
          "execution_count": 27
        }
      ]
    },
    {
      "cell_type": "code",
      "source": [
        "indices = torch.tensor([0,2])\n",
        "print(indices)"
      ],
      "metadata": {
        "colab": {
          "base_uri": "https://localhost:8080/"
        },
        "id": "d4aMNwWZw6yb",
        "outputId": "b7c09a22-ad05-4981-f03d-5476bd41bca1"
      },
      "execution_count": 30,
      "outputs": [
        {
          "output_type": "stream",
          "name": "stdout",
          "text": [
            "tensor([0, 2])\n"
          ]
        }
      ]
    },
    {
      "cell_type": "code",
      "source": [
        "torch.index_select(x, 0, indices)"
      ],
      "metadata": {
        "colab": {
          "base_uri": "https://localhost:8080/"
        },
        "id": "2a2bfhp0xClf",
        "outputId": "b0f70e86-04fa-4d18-f3c4-a26ab9aced7e"
      },
      "execution_count": 31,
      "outputs": [
        {
          "output_type": "execute_result",
          "data": {
            "text/plain": [
              "tensor([[0.5410, 0.8104, 0.7855, 0.3805],\n",
              "        [0.6944, 0.6873, 0.2166, 0.1789]])"
            ]
          },
          "metadata": {},
          "execution_count": 31
        }
      ]
    },
    {
      "cell_type": "code",
      "source": [
        "torch.index_select(x, 1, indices)"
      ],
      "metadata": {
        "colab": {
          "base_uri": "https://localhost:8080/"
        },
        "id": "agRILbwixI-i",
        "outputId": "49ff5cf0-7246-41c6-fa9d-c5678187e337"
      },
      "execution_count": 33,
      "outputs": [
        {
          "output_type": "execute_result",
          "data": {
            "text/plain": [
              "tensor([[0.5410, 0.7855],\n",
              "        [0.7033, 0.7901],\n",
              "        [0.6944, 0.2166]])"
            ]
          },
          "metadata": {},
          "execution_count": 33
        }
      ]
    },
    {
      "cell_type": "markdown",
      "source": [
        "#### 3. Slicing"
      ],
      "metadata": {
        "id": "kr0S2PNZxYlr"
      }
    },
    {
      "cell_type": "code",
      "source": [
        "tensor = torch.tensor([[1,2,3], [4,5,6],[7,8,9]])\n",
        "print(tensor)"
      ],
      "metadata": {
        "colab": {
          "base_uri": "https://localhost:8080/"
        },
        "id": "joT7GpyWxQYc",
        "outputId": "b0dbcfeb-8dfa-45c8-8030-85ca7b97356e"
      },
      "execution_count": 34,
      "outputs": [
        {
          "output_type": "stream",
          "name": "stdout",
          "text": [
            "tensor([[1, 2, 3],\n",
            "        [4, 5, 6],\n",
            "        [7, 8, 9]])\n"
          ]
        }
      ]
    },
    {
      "cell_type": "code",
      "source": [
        "tensor[0]"
      ],
      "metadata": {
        "colab": {
          "base_uri": "https://localhost:8080/"
        },
        "id": "epnJkXuNxfW2",
        "outputId": "01e7ad38-275c-4777-a488-779f2c8abb8e"
      },
      "execution_count": 35,
      "outputs": [
        {
          "output_type": "execute_result",
          "data": {
            "text/plain": [
              "tensor([1, 2, 3])"
            ]
          },
          "metadata": {},
          "execution_count": 35
        }
      ]
    },
    {
      "cell_type": "code",
      "source": [
        "tensor[0:2]"
      ],
      "metadata": {
        "colab": {
          "base_uri": "https://localhost:8080/"
        },
        "id": "n044i5Gmxg5-",
        "outputId": "e7b159bd-5df0-4510-dfe0-fc4b4b3e8d2d"
      },
      "execution_count": 36,
      "outputs": [
        {
          "output_type": "execute_result",
          "data": {
            "text/plain": [
              "tensor([[1, 2, 3],\n",
              "        [4, 5, 6]])"
            ]
          },
          "metadata": {},
          "execution_count": 36
        }
      ]
    },
    {
      "cell_type": "code",
      "source": [
        "tensor[-1]"
      ],
      "metadata": {
        "colab": {
          "base_uri": "https://localhost:8080/"
        },
        "id": "xC7oAZo2xjJb",
        "outputId": "2aa3a193-7c05-41c4-f402-f1b1dbd5e4e2"
      },
      "execution_count": 37,
      "outputs": [
        {
          "output_type": "execute_result",
          "data": {
            "text/plain": [
              "tensor([7, 8, 9])"
            ]
          },
          "metadata": {},
          "execution_count": 37
        }
      ]
    },
    {
      "cell_type": "code",
      "source": [
        "tensor[:, 1]"
      ],
      "metadata": {
        "colab": {
          "base_uri": "https://localhost:8080/"
        },
        "id": "HJugD-Puxr_f",
        "outputId": "f8a8f4cb-ba33-4b6b-8285-a38ce24a24db"
      },
      "execution_count": 38,
      "outputs": [
        {
          "output_type": "execute_result",
          "data": {
            "text/plain": [
              "tensor([2, 5, 8])"
            ]
          },
          "metadata": {},
          "execution_count": 38
        }
      ]
    },
    {
      "cell_type": "code",
      "source": [
        "tensor[:, -1]"
      ],
      "metadata": {
        "colab": {
          "base_uri": "https://localhost:8080/"
        },
        "id": "KPYc0RvQxvaI",
        "outputId": "daefa1fd-ae00-4398-c550-6791d2e8f537"
      },
      "execution_count": 39,
      "outputs": [
        {
          "output_type": "execute_result",
          "data": {
            "text/plain": [
              "tensor([3, 6, 9])"
            ]
          },
          "metadata": {},
          "execution_count": 39
        }
      ]
    },
    {
      "cell_type": "code",
      "source": [
        "tensor[:,1] = 0\n",
        "print(tensor)"
      ],
      "metadata": {
        "colab": {
          "base_uri": "https://localhost:8080/"
        },
        "id": "r6k3ChLzx1w4",
        "outputId": "8cafae0e-f1c1-4b61-efa6-20ccc7500752"
      },
      "execution_count": 41,
      "outputs": [
        {
          "output_type": "stream",
          "name": "stdout",
          "text": [
            "tensor([[1, 0, 3],\n",
            "        [4, 0, 6],\n",
            "        [7, 0, 9]])\n"
          ]
        }
      ]
    },
    {
      "cell_type": "markdown",
      "source": [
        "#### 4. Joining"
      ],
      "metadata": {
        "id": "B-9tZOD4x-6W"
      }
    },
    {
      "cell_type": "code",
      "source": [
        "x = torch.tensor([[1,2,3], [4,5,6],[7,8,9]])\n",
        "x"
      ],
      "metadata": {
        "colab": {
          "base_uri": "https://localhost:8080/"
        },
        "id": "I1dSe8mQx6Lw",
        "outputId": "ab7d7c84-afae-4e95-99e6-bcaf82328c58"
      },
      "execution_count": 4,
      "outputs": [
        {
          "output_type": "execute_result",
          "data": {
            "text/plain": [
              "tensor([[1, 2, 3],\n",
              "        [4, 5, 6],\n",
              "        [7, 8, 9]])"
            ]
          },
          "metadata": {},
          "execution_count": 4
        }
      ]
    },
    {
      "cell_type": "code",
      "source": [
        "_x = torch.cat((x,x,x), 0)"
      ],
      "metadata": {
        "id": "UxH1DGpRyFw1"
      },
      "execution_count": 5,
      "outputs": []
    },
    {
      "cell_type": "code",
      "source": [
        "x_ = torch.cat((x, x, x), 1)\n",
        "print(_x)\n",
        "print(_x.shape)"
      ],
      "metadata": {
        "colab": {
          "base_uri": "https://localhost:8080/"
        },
        "id": "jBwmc-7cyJab",
        "outputId": "949dc348-3d50-4647-edb8-62fe44a4cd21"
      },
      "execution_count": 6,
      "outputs": [
        {
          "output_type": "stream",
          "name": "stdout",
          "text": [
            "tensor([[1, 2, 3],\n",
            "        [4, 5, 6],\n",
            "        [7, 8, 9],\n",
            "        [1, 2, 3],\n",
            "        [4, 5, 6],\n",
            "        [7, 8, 9],\n",
            "        [1, 2, 3],\n",
            "        [4, 5, 6],\n",
            "        [7, 8, 9]])\n",
            "torch.Size([9, 3])\n"
          ]
        }
      ]
    },
    {
      "cell_type": "markdown",
      "source": [
        "#### 5. Mutating"
      ],
      "metadata": {
        "id": "Cpecf0GvNTk7"
      }
    },
    {
      "cell_type": "code",
      "source": [
        "# Permute\n",
        "x = torch.rand(2, 3, 5)\n",
        "print(x.size())\n",
        "torch.permute(x, (2, 0, 1)).size()"
      ],
      "metadata": {
        "colab": {
          "base_uri": "https://localhost:8080/"
        },
        "id": "7oCaxNxVNIJY",
        "outputId": "3ee66cd1-358f-4099-c220-13e612c68b87"
      },
      "execution_count": 7,
      "outputs": [
        {
          "output_type": "stream",
          "name": "stdout",
          "text": [
            "torch.Size([2, 3, 5])\n"
          ]
        },
        {
          "output_type": "execute_result",
          "data": {
            "text/plain": [
              "torch.Size([5, 2, 3])"
            ]
          },
          "metadata": {},
          "execution_count": 7
        }
      ]
    },
    {
      "cell_type": "code",
      "source": [
        "# Reshape\n",
        "a = torch.arange(4.)\n",
        "print(a)\n",
        "print(a.size())\n",
        "\n",
        "a = torch.reshape(a, (2,2))\n",
        "print(a)\n",
        "print(a.size())\n",
        "\n",
        "b = torch.tensor([[0,1], [2,3]])\n",
        "b = torch.reshape(b, (-1,))\n",
        "print(b)"
      ],
      "metadata": {
        "colab": {
          "base_uri": "https://localhost:8080/"
        },
        "id": "gDihZqPqNedG",
        "outputId": "358444b0-1d03-4ab8-d77b-f73c00e34e68"
      },
      "execution_count": 9,
      "outputs": [
        {
          "output_type": "stream",
          "name": "stdout",
          "text": [
            "tensor([0., 1., 2., 3.])\n",
            "torch.Size([4])\n",
            "tensor([[0., 1.],\n",
            "        [2., 3.]])\n",
            "torch.Size([2, 2])\n",
            "tensor([0, 1, 2, 3])\n"
          ]
        }
      ]
    },
    {
      "cell_type": "code",
      "source": [
        "# Transpose\n",
        "\n",
        "x = torch.randn(2, 3,2)\n",
        "print(x)\n",
        "print(x.shape)\n",
        "\n",
        "x = torch.transpose(x, 0, 2)\n",
        "print(x)\n",
        "print(x.shape)"
      ],
      "metadata": {
        "colab": {
          "base_uri": "https://localhost:8080/"
        },
        "id": "EZB4JqWYNzVv",
        "outputId": "fcc35cf9-7f28-4e20-a6b8-e820f0fb8c58"
      },
      "execution_count": 12,
      "outputs": [
        {
          "output_type": "stream",
          "name": "stdout",
          "text": [
            "tensor([[[ 1.3007, -0.6193],\n",
            "         [-0.4934, -0.0064],\n",
            "         [-2.0538, -0.3570]],\n",
            "\n",
            "        [[-0.6893, -0.4395],\n",
            "         [-0.1402,  0.2953],\n",
            "         [ 0.0865, -0.1168]]])\n",
            "torch.Size([2, 3, 2])\n",
            "tensor([[[ 1.3007, -0.6893],\n",
            "         [-0.4934, -0.1402],\n",
            "         [-2.0538,  0.0865]],\n",
            "\n",
            "        [[-0.6193, -0.4395],\n",
            "         [-0.0064,  0.2953],\n",
            "         [-0.3570, -0.1168]]])\n",
            "torch.Size([2, 3, 2])\n"
          ]
        }
      ]
    },
    {
      "cell_type": "code",
      "source": [
        "# Squeeze\n",
        "\n",
        "x = torch.zeros(2,1,2,1,2)\n",
        "print(x.size())\n",
        "print(x)\n",
        "\n",
        "y = torch.squeeze(x)\n",
        "print(y.size())\n",
        "print(y)\n",
        "\n",
        "y = torch.squeeze(x, 0)\n",
        "print(y.size())\n",
        "\n",
        "y = torch.squeeze(x, 3)\n",
        "print(y.size())"
      ],
      "metadata": {
        "colab": {
          "base_uri": "https://localhost:8080/"
        },
        "id": "fF0k4ApUOKq3",
        "outputId": "4791f6d1-21e8-4ea2-b8f0-bf5a2644c9fd"
      },
      "execution_count": 15,
      "outputs": [
        {
          "output_type": "stream",
          "name": "stdout",
          "text": [
            "torch.Size([2, 1, 2, 1, 2])\n",
            "tensor([[[[[0., 0.]],\n",
            "\n",
            "          [[0., 0.]]]],\n",
            "\n",
            "\n",
            "\n",
            "        [[[[0., 0.]],\n",
            "\n",
            "          [[0., 0.]]]]])\n",
            "torch.Size([2, 2, 2])\n",
            "tensor([[[0., 0.],\n",
            "         [0., 0.]],\n",
            "\n",
            "        [[0., 0.],\n",
            "         [0., 0.]]])\n",
            "torch.Size([2, 1, 2, 1, 2])\n",
            "torch.Size([2, 1, 2, 2])\n"
          ]
        }
      ]
    },
    {
      "cell_type": "markdown",
      "source": [
        "#### 6. Math operations"
      ],
      "metadata": {
        "id": "r-kpBO4vQat5"
      }
    },
    {
      "cell_type": "code",
      "source": [
        "x = torch.tensor([[1.,2.,3.], [4.,5.,6.],[7.,8.,9.,],])\n",
        "x"
      ],
      "metadata": {
        "colab": {
          "base_uri": "https://localhost:8080/"
        },
        "id": "O2B6sUEJO7t5",
        "outputId": "27e49814-b2bb-4edc-9e49-4090b620b420"
      },
      "execution_count": 22,
      "outputs": [
        {
          "output_type": "execute_result",
          "data": {
            "text/plain": [
              "tensor([[1., 2., 3.],\n",
              "        [4., 5., 6.],\n",
              "        [7., 8., 9.]])"
            ]
          },
          "metadata": {},
          "execution_count": 22
        }
      ]
    },
    {
      "cell_type": "code",
      "source": [
        "y1 = x @ x.T\n",
        "y1"
      ],
      "metadata": {
        "colab": {
          "base_uri": "https://localhost:8080/"
        },
        "id": "BofFu2Z6Qmba",
        "outputId": "c5c7eb05-fd13-4bdd-eeff-282344b047d3"
      },
      "execution_count": 23,
      "outputs": [
        {
          "output_type": "execute_result",
          "data": {
            "text/plain": [
              "tensor([[ 14.,  32.,  50.],\n",
              "        [ 32.,  77., 122.],\n",
              "        [ 50., 122., 194.]])"
            ]
          },
          "metadata": {},
          "execution_count": 23
        }
      ]
    },
    {
      "cell_type": "code",
      "source": [
        "y2 = x.matmul(x.T)\n",
        "y2"
      ],
      "metadata": {
        "colab": {
          "base_uri": "https://localhost:8080/"
        },
        "id": "Ki0kztCRQ035",
        "outputId": "18cde99e-a914-4f48-a198-cc5b4f4df40e"
      },
      "execution_count": 24,
      "outputs": [
        {
          "output_type": "execute_result",
          "data": {
            "text/plain": [
              "tensor([[ 14.,  32.,  50.],\n",
              "        [ 32.,  77., 122.],\n",
              "        [ 50., 122., 194.]])"
            ]
          },
          "metadata": {},
          "execution_count": 24
        }
      ]
    },
    {
      "cell_type": "code",
      "source": [
        "z1 = x*x\n",
        "z1"
      ],
      "metadata": {
        "colab": {
          "base_uri": "https://localhost:8080/"
        },
        "id": "lTEf6cXuRIlA",
        "outputId": "589fcfbd-20d7-4a8a-d97b-a4138748ecd0"
      },
      "execution_count": 26,
      "outputs": [
        {
          "output_type": "execute_result",
          "data": {
            "text/plain": [
              "tensor([[ 1.,  4.,  9.],\n",
              "        [16., 25., 36.],\n",
              "        [49., 64., 81.]])"
            ]
          },
          "metadata": {},
          "execution_count": 26
        }
      ]
    },
    {
      "cell_type": "code",
      "source": [
        "z2 = x.mul(x)\n",
        "z2"
      ],
      "metadata": {
        "colab": {
          "base_uri": "https://localhost:8080/"
        },
        "id": "aLCksZB6RbpG",
        "outputId": "83f17f78-9689-4866-8c8b-70c6a8038466"
      },
      "execution_count": 27,
      "outputs": [
        {
          "output_type": "execute_result",
          "data": {
            "text/plain": [
              "tensor([[ 1.,  4.,  9.],\n",
              "        [16., 25., 36.],\n",
              "        [49., 64., 81.]])"
            ]
          },
          "metadata": {},
          "execution_count": 27
        }
      ]
    },
    {
      "cell_type": "code",
      "source": [
        "torch.abs(torch.tensor([-1,-2,3]))"
      ],
      "metadata": {
        "colab": {
          "base_uri": "https://localhost:8080/"
        },
        "id": "bn1FyoGvRglN",
        "outputId": "b17fa80a-4629-46cd-f4d3-b499ab142e02"
      },
      "execution_count": 28,
      "outputs": [
        {
          "output_type": "execute_result",
          "data": {
            "text/plain": [
              "tensor([1, 2, 3])"
            ]
          },
          "metadata": {},
          "execution_count": 28
        }
      ]
    },
    {
      "cell_type": "code",
      "source": [
        "a = torch.randn(4)\n",
        "print(a)\n",
        "\n",
        "a = torch.add(a, 20)\n",
        "print(a)"
      ],
      "metadata": {
        "colab": {
          "base_uri": "https://localhost:8080/"
        },
        "id": "2Bur6lITRkDu",
        "outputId": "aac52110-c6b8-48cd-f549-3f937c091f8d"
      },
      "execution_count": 30,
      "outputs": [
        {
          "output_type": "stream",
          "name": "stdout",
          "text": [
            "tensor([-0.7907, -0.3389,  0.2847,  0.0848])\n",
            "tensor([19.2093, 19.6611, 20.2847, 20.0848])\n"
          ]
        }
      ]
    },
    {
      "cell_type": "code",
      "source": [
        "a = torch.randn(4)\n",
        "print(a)\n",
        "\n",
        "torch.cos(a)\n",
        "\n"
      ],
      "metadata": {
        "colab": {
          "base_uri": "https://localhost:8080/"
        },
        "id": "5MaTvg3YRq1l",
        "outputId": "14b0e98d-ebd1-4a56-c0da-ff78b534891c"
      },
      "execution_count": 31,
      "outputs": [
        {
          "output_type": "stream",
          "name": "stdout",
          "text": [
            "tensor([-0.1232,  0.7093,  0.3701,  0.2245])\n"
          ]
        },
        {
          "output_type": "execute_result",
          "data": {
            "text/plain": [
              "tensor([0.9924, 0.7588, 0.9323, 0.9749])"
            ]
          },
          "metadata": {},
          "execution_count": 31
        }
      ]
    },
    {
      "cell_type": "code",
      "source": [
        "torch.pow(a, 2)"
      ],
      "metadata": {
        "colab": {
          "base_uri": "https://localhost:8080/"
        },
        "id": "yJYqQ7TrR0Ek",
        "outputId": "23456a7a-f598-4531-ae7a-91c596812984"
      },
      "execution_count": 32,
      "outputs": [
        {
          "output_type": "execute_result",
          "data": {
            "text/plain": [
              "tensor([0.0152, 0.5031, 0.1370, 0.0504])"
            ]
          },
          "metadata": {},
          "execution_count": 32
        }
      ]
    },
    {
      "cell_type": "markdown",
      "source": [
        "#### 7. Reduction Ops"
      ],
      "metadata": {
        "id": "kHcyqlxlR677"
      }
    },
    {
      "cell_type": "code",
      "source": [
        "x = torch.tensor([[1.,2.,3.], [4.,5.,6.],[7.,8.,9.,],])\n",
        "x"
      ],
      "metadata": {
        "colab": {
          "base_uri": "https://localhost:8080/"
        },
        "id": "qie9fzfXR3kj",
        "outputId": "ce39fa07-ff0f-4bff-9dd9-7d6260c47571"
      },
      "execution_count": 38,
      "outputs": [
        {
          "output_type": "execute_result",
          "data": {
            "text/plain": [
              "tensor([[1., 2., 3.],\n",
              "        [4., 5., 6.],\n",
              "        [7., 8., 9.]])"
            ]
          },
          "metadata": {},
          "execution_count": 38
        }
      ]
    },
    {
      "cell_type": "code",
      "source": [
        "torch.argmax(x)"
      ],
      "metadata": {
        "colab": {
          "base_uri": "https://localhost:8080/"
        },
        "id": "eHsNt09gSCSm",
        "outputId": "0fd1b6c0-d3e1-4845-de01-2cc2874383b6"
      },
      "execution_count": 34,
      "outputs": [
        {
          "output_type": "execute_result",
          "data": {
            "text/plain": [
              "tensor(8)"
            ]
          },
          "metadata": {},
          "execution_count": 34
        }
      ]
    },
    {
      "cell_type": "code",
      "source": [
        "x = x.flatten()\n",
        "x"
      ],
      "metadata": {
        "colab": {
          "base_uri": "https://localhost:8080/"
        },
        "id": "Qzn2uTc3SEmQ",
        "outputId": "95447124-dde9-4abe-d1df-99b7b9c94a7c"
      },
      "execution_count": 35,
      "outputs": [
        {
          "output_type": "execute_result",
          "data": {
            "text/plain": [
              "tensor([1., 2., 3., 4., 5., 6., 7., 8., 9.])"
            ]
          },
          "metadata": {},
          "execution_count": 35
        }
      ]
    },
    {
      "cell_type": "code",
      "source": [
        "x[torch.argmax(x)].item()"
      ],
      "metadata": {
        "colab": {
          "base_uri": "https://localhost:8080/"
        },
        "id": "YCmUEl2YSVDR",
        "outputId": "b59f4504-c021-4a49-bdad-11a01c33a684"
      },
      "execution_count": 37,
      "outputs": [
        {
          "output_type": "execute_result",
          "data": {
            "text/plain": [
              "9.0"
            ]
          },
          "metadata": {},
          "execution_count": 37
        }
      ]
    },
    {
      "cell_type": "code",
      "source": [
        "torch.argmin(x)"
      ],
      "metadata": {
        "colab": {
          "base_uri": "https://localhost:8080/"
        },
        "id": "q4PGtFk5SYF1",
        "outputId": "ebdb806e-5f69-487e-bbcb-b495be9620b4"
      },
      "execution_count": 39,
      "outputs": [
        {
          "output_type": "execute_result",
          "data": {
            "text/plain": [
              "tensor(0)"
            ]
          },
          "metadata": {},
          "execution_count": 39
        }
      ]
    },
    {
      "cell_type": "code",
      "source": [
        "x = torch.tensor([[1.,2.,3.], [4.,0.,6.],[7.,8.,9.,],])\n",
        "torch.argmin(x)"
      ],
      "metadata": {
        "colab": {
          "base_uri": "https://localhost:8080/"
        },
        "id": "5h6Rup4pSgvM",
        "outputId": "9877ea21-4a9a-4418-fe0b-f200da4c5fdc"
      },
      "execution_count": 40,
      "outputs": [
        {
          "output_type": "execute_result",
          "data": {
            "text/plain": [
              "tensor(4)"
            ]
          },
          "metadata": {},
          "execution_count": 40
        }
      ]
    },
    {
      "cell_type": "code",
      "source": [
        "torch.sum(x)"
      ],
      "metadata": {
        "colab": {
          "base_uri": "https://localhost:8080/"
        },
        "id": "TZHwEnIXSotg",
        "outputId": "c0f2ccef-b5b9-45f7-8bac-68a8c83ff68b"
      },
      "execution_count": 41,
      "outputs": [
        {
          "output_type": "execute_result",
          "data": {
            "text/plain": [
              "tensor(40.)"
            ]
          },
          "metadata": {},
          "execution_count": 41
        }
      ]
    },
    {
      "cell_type": "code",
      "source": [
        "torch.unique(x)"
      ],
      "metadata": {
        "colab": {
          "base_uri": "https://localhost:8080/"
        },
        "id": "3NYlo-bfSsR4",
        "outputId": "faa2f492-9c97-495a-a102-1509dfad4944"
      },
      "execution_count": 42,
      "outputs": [
        {
          "output_type": "execute_result",
          "data": {
            "text/plain": [
              "tensor([0., 1., 2., 3., 4., 6., 7., 8., 9.])"
            ]
          },
          "metadata": {},
          "execution_count": 42
        }
      ]
    },
    {
      "cell_type": "code",
      "source": [
        "x = torch.tensor([[1.,1.,1.], [4.,0.,6.],[1.,1.,1.,],])\n",
        "torch.unique(x)"
      ],
      "metadata": {
        "colab": {
          "base_uri": "https://localhost:8080/"
        },
        "id": "9vlDGXblSxid",
        "outputId": "83d75c33-ff73-4fbd-e0f3-1d5d602fa20b"
      },
      "execution_count": 44,
      "outputs": [
        {
          "output_type": "execute_result",
          "data": {
            "text/plain": [
              "tensor([0., 1., 4., 6.])"
            ]
          },
          "metadata": {},
          "execution_count": 44
        }
      ]
    },
    {
      "cell_type": "markdown",
      "source": [
        "#### 8. Comparison Ops"
      ],
      "metadata": {
        "id": "A6UFd4HZS_4F"
      }
    },
    {
      "cell_type": "code",
      "source": [
        "# eq\n",
        "torch.eq(torch.tensor([[1,2],[3,4]]), torch.tensor([[1,2],[4,4]]))\n",
        "\n",
        "# equal\n",
        "torch.equal(torch.tensor([[1,2],[3,4]]), torch.tensor([[1,2],[3,4]]))\n",
        "\n",
        ""
      ],
      "metadata": {
        "colab": {
          "base_uri": "https://localhost:8080/"
        },
        "id": "xWqt00EAS6g7",
        "outputId": "0df37aa8-e32e-42b2-acaa-30337ac536a4"
      },
      "execution_count": 45,
      "outputs": [
        {
          "output_type": "execute_result",
          "data": {
            "text/plain": [
              "True"
            ]
          },
          "metadata": {},
          "execution_count": 45
        }
      ]
    },
    {
      "cell_type": "code",
      "source": [
        "# isinf\n",
        "torch.isinf(torch.tensor([1, float('inf'), 2, float('-inf'), float('nan')]))\n",
        "\n",
        "# isnan\n",
        "torch.isnan(torch.tensor([1, float('nan'), 2]))"
      ],
      "metadata": {
        "colab": {
          "base_uri": "https://localhost:8080/"
        },
        "id": "bG2a5eBcTZdo",
        "outputId": "fdebb5a2-fc87-4825-d99e-da87dd78862f"
      },
      "execution_count": 47,
      "outputs": [
        {
          "output_type": "execute_result",
          "data": {
            "text/plain": [
              "tensor([False,  True, False])"
            ]
          },
          "metadata": {},
          "execution_count": 47
        }
      ]
    },
    {
      "cell_type": "markdown",
      "source": [
        "#### 9. Disabling gradient computation"
      ],
      "metadata": {
        "id": "TGcQ2v8ETxaT"
      }
    },
    {
      "cell_type": "code",
      "source": [
        "x = torch.zeros(1, requires_grad=True)\n",
        "x"
      ],
      "metadata": {
        "colab": {
          "base_uri": "https://localhost:8080/"
        },
        "id": "2PBSIAp9Tk2g",
        "outputId": "ad7fe8d3-8a1d-4d99-f59b-925125806c10"
      },
      "execution_count": 4,
      "outputs": [
        {
          "output_type": "execute_result",
          "data": {
            "text/plain": [
              "tensor([0.], requires_grad=True)"
            ]
          },
          "metadata": {},
          "execution_count": 4
        }
      ]
    },
    {
      "cell_type": "code",
      "source": [
        "with torch.no_grad():\n",
        "  y = x * 2\n",
        "print(y)\n",
        "print(y.requires_grad)"
      ],
      "metadata": {
        "colab": {
          "base_uri": "https://localhost:8080/"
        },
        "id": "BN_qX5P_T3qv",
        "outputId": "c7af9cd8-26c6-490e-9993-85d369d6fbfe"
      },
      "execution_count": 5,
      "outputs": [
        {
          "output_type": "stream",
          "name": "stdout",
          "text": [
            "tensor([0.])\n",
            "False\n"
          ]
        }
      ]
    },
    {
      "cell_type": "code",
      "source": [
        "with torch.set_grad_enabled(False):\n",
        "  z = x * 2\n",
        "print(z.requires_grad)\n"
      ],
      "metadata": {
        "colab": {
          "base_uri": "https://localhost:8080/"
        },
        "id": "0hiWJ1GHoMUu",
        "outputId": "304009c0-3a82-40b7-e79b-efeb5b314687"
      },
      "execution_count": 6,
      "outputs": [
        {
          "output_type": "stream",
          "name": "stdout",
          "text": [
            "False\n"
          ]
        }
      ]
    },
    {
      "cell_type": "code",
      "source": [
        "torch.set_grad_enabled(True)\n",
        "z = x *2\n",
        "print(z.requires_grad)"
      ],
      "metadata": {
        "colab": {
          "base_uri": "https://localhost:8080/"
        },
        "id": "a4JoQSaaT_9d",
        "outputId": "fadabbcb-f81b-4dd5-e865-ef9ba6fd4d91"
      },
      "execution_count": 7,
      "outputs": [
        {
          "output_type": "stream",
          "name": "stdout",
          "text": [
            "True\n"
          ]
        }
      ]
    },
    {
      "cell_type": "code",
      "source": [],
      "metadata": {
        "id": "JIYEzG25USl2"
      },
      "execution_count": null,
      "outputs": []
    }
  ]
}