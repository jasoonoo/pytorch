{
  "nbformat": 4,
  "nbformat_minor": 0,
  "metadata": {
    "colab": {
      "provenance": [],
      "authorship_tag": "ABX9TyPiRTSJky/iloP5Y/7e3+09",
      "include_colab_link": true
    },
    "kernelspec": {
      "name": "python3",
      "display_name": "Python 3"
    },
    "language_info": {
      "name": "python"
    }
  },
  "cells": [
    {
      "cell_type": "markdown",
      "metadata": {
        "id": "view-in-github",
        "colab_type": "text"
      },
      "source": [
        "<a href=\"https://colab.research.google.com/github/jasoonoo/pytorch/blob/main/Colab%EC%8B%A4%EC%8A%B5%ED%95%98%EA%B8%B01.ipynb\" target=\"_parent\"><img src=\"https://colab.research.google.com/assets/colab-badge.svg\" alt=\"Open In Colab\"/></a>"
      ]
    },
    {
      "cell_type": "code",
      "execution_count": null,
      "metadata": {
        "id": "rgDi53aciVGb"
      },
      "outputs": [],
      "source": []
    },
    {
      "cell_type": "markdown",
      "source": [
        "# PyTorch로 딥러닝 제대로 배우기 - 기초\n",
        "\n",
        "``` python\n",
        "# 코드로 형식 지정됨\n",
        "y = a + b\n",
        "```\n",
        "\n",
        "1. 첫번째\n",
        "  * 하고 싶은 말이\n",
        "  * 있습니다.\n",
        "2. 두번째\n",
        "3. 인공지능 재밌어요\n",
        "\n",
        "* 안녕\n",
        "* 하세요\n",
        "\n"
      ],
      "metadata": {
        "id": "gLcK-9tEibLp"
      }
    },
    {
      "cell_type": "code",
      "source": [
        "print(\"Hello World!\")"
      ],
      "metadata": {
        "colab": {
          "base_uri": "https://localhost:8080/"
        },
        "id": "tpft8a6fjBGi",
        "outputId": "6ce774c5-a4bd-4983-87ed-6377d1ea44e9"
      },
      "execution_count": 1,
      "outputs": [
        {
          "output_type": "stream",
          "name": "stdout",
          "text": [
            "Hello World!\n"
          ]
        }
      ]
    },
    {
      "cell_type": "markdown",
      "source": [
        "# 3. 실행 순서에 따른 변화를 확인"
      ],
      "metadata": {
        "id": "RbECKUoJjlWe"
      }
    },
    {
      "cell_type": "code",
      "source": [
        "text = \"Colab\"\n",
        "print(text)"
      ],
      "metadata": {
        "colab": {
          "base_uri": "https://localhost:8080/"
        },
        "id": "8ZqDF45AjoYj",
        "outputId": "4da65e1d-122c-416e-d397-f34af001cc12"
      },
      "execution_count": 10,
      "outputs": [
        {
          "output_type": "stream",
          "name": "stdout",
          "text": [
            "Colab\n"
          ]
        }
      ]
    },
    {
      "cell_type": "code",
      "source": [
        "text = \"Nice\"\n",
        "print(text)"
      ],
      "metadata": {
        "colab": {
          "base_uri": "https://localhost:8080/"
        },
        "id": "IeXmB-uGj0QF",
        "outputId": "7d7eb279-6660-45d8-c983-ac63edb29496"
      },
      "execution_count": 9,
      "outputs": [
        {
          "output_type": "stream",
          "name": "stdout",
          "text": [
            "Nice\n"
          ]
        }
      ]
    },
    {
      "cell_type": "code",
      "source": [
        "print(text)"
      ],
      "metadata": {
        "colab": {
          "base_uri": "https://localhost:8080/"
        },
        "id": "hjzZxZfej4WL",
        "outputId": "697b98b1-c0fe-41f3-d1bb-6bc3b6184767"
      },
      "execution_count": 11,
      "outputs": [
        {
          "output_type": "stream",
          "name": "stdout",
          "text": [
            "Colab\n"
          ]
        }
      ]
    },
    {
      "cell_type": "code",
      "source": [
        "!nvidia-smi"
      ],
      "metadata": {
        "colab": {
          "base_uri": "https://localhost:8080/"
        },
        "id": "Lp1oKBWAkBP1",
        "outputId": "f6a2cfc7-b6d0-4525-9b85-43a0b35bb476"
      },
      "execution_count": 12,
      "outputs": [
        {
          "output_type": "stream",
          "name": "stdout",
          "text": [
            "/bin/bash: line 1: nvidia-smi: command not found\n"
          ]
        }
      ]
    },
    {
      "cell_type": "code",
      "source": [],
      "metadata": {
        "id": "TRwcDB7MkM-p"
      },
      "execution_count": null,
      "outputs": []
    }
  ]
}